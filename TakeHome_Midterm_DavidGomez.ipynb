{
  "cells": [
    {
      "cell_type": "markdown",
      "source": [
        "<a href=\"https://colab.research.google.com/drive/1lwIIEjrUJTXSo2UBtn2I4CL9zMkFX2pQ?usp=sharing\" target=\"_parent\"><img src=\"https://colab.research.google.com/assets/colab-badge.svg\" alt=\"Open in Colab\"/></a>"
      ],
      "metadata": {
        "id": "V_JDiynFN_hH"
      }
    },
    {
      "cell_type": "markdown",
      "metadata": {
        "id": "eCNHCZIhGEHC"
      },
      "source": [
        "# Midterm - Summer 2023\n",
        "\n",
        "## Problem 1: Take-at-home  (45 points total)\n",
        "\n",
        "You are applying for a position at the data science team of USDA and you are given data associated with determining appropriate parasite treatment of canines. The suggested treatment options are determined based on a **logistic regression** model that predicts if the canine is infected with a parasite.\n",
        "\n",
        "The data is given in the site: https://data.world/ehales/grls-parasite-study/workspace/file?filename=CBC_data.csv  and more specifically in the CBC_data.csv file. Login using you University Google account to access the data and the description that includes a paper on the study (**you dont need to read the paper to solve this problem**). Your target variable $y$ column is titled `parasite_status`.\n",
        "\n",
        "\n"
      ]
    },
    {
      "cell_type": "markdown",
      "source": [
        "\n",
        "\n",
        "---\n",
        "\n"
      ],
      "metadata": {
        "id": "2Nc6cIVEpG2N"
      }
    },
    {
      "cell_type": "markdown",
      "metadata": {
        "id": "VtR8Z4DnGEHH"
      },
      "source": [
        "### Question 1 - Feature Engineering (5 points)\n",
        "\n",
        "Write the posterior probability expressions for logistic regression for the problem you are given to solve."
      ]
    },
    {
      "cell_type": "markdown",
      "metadata": {
        "id": "0QO2mOXkGEHI"
      },
      "source": [
        "$$p(y=1| \\mathbf{x}, \\mathbf w)=\\frac{1}{1+e^{-\\mathbf w^{T}\\mathbf{x}}}$$\n",
        "\n",
        "$$p(y=0| \\mathbf{x}, \\mathbf w)=\\frac{e^{-\\mathbf w^{T}\\mathbf{x}}}{1+e^{-\\mathbf w^{T}\\mathbf{x}}}$$"
      ]
    },
    {
      "cell_type": "markdown",
      "source": [
        "*   $p(y=1| \\mathbf{x}, \\mathbf w)$ is the probability of being infected with a parasite given the input features $\\mathbf{x}$ and model weights $\\mathbf w$.\n",
        "*   $p(y=0| \\mathbf{x}, \\mathbf w)$ is the probability of not being infected with a parasite given the input features $\\mathbf{x}$ and model weights $\\mathbf w$.\n",
        "*   $\\mathbf w^{T}\\mathbf{x}$ is the linear combination of the input features $\\mathbf{x}$ and model weights $\\mathbf w$ $(w_0 + w_1x_1 + ... + w_mx_m)$."
      ],
      "metadata": {
        "id": "iIS5RKJ-qjK2"
      }
    },
    {
      "cell_type": "markdown",
      "source": [
        "\n",
        "\n",
        "---\n",
        "\n"
      ],
      "metadata": {
        "id": "NkFmmCskpGWb"
      }
    },
    {
      "cell_type": "markdown",
      "metadata": {
        "id": "vBFPGhJEGEHJ"
      },
      "source": [
        "\n",
        "\n",
        "### Question 2 - Decision Boundary (5 points)\n",
        "\n",
        "Write the expression for the decision boundary assuming that $p(y=1)=p(y=0)$. The decision boundary is the line that separates the two classes.\n",
        "\n",
        "\n",
        "\n"
      ]
    },
    {
      "cell_type": "markdown",
      "metadata": {
        "id": "Z-BEFELkGEHJ"
      },
      "source": [
        "Assuming that $p(y=1)=p(y=0)$. The decision boundary can be expressed as:\n",
        "$$p(y=1| \\mathbf{x}, \\mathbf w)=0.5 = \\frac{1}{1+e^{-\\mathbf w^{T}\\mathbf{x}}}$$\n",
        "$$ 1+e^{-\\mathbf w^{T}\\mathbf{x}} = 2$$\n",
        "$$ e^{-\\mathbf w^{T}\\mathbf{x}} = 1$$\n",
        "$$ -\\mathbf w^{T}\\mathbf{x} = ln(1) = 0$$\n",
        "\n",
        "Therefore, the decision boundary can be written as the linear combination of the input features $\\mathbf{x}$ and model weights $\\mathbf w$ when equal to zero.\n",
        "\n",
        " $$w_0 + w_1x_1 + ... + w_mx_m=0$$"
      ]
    },
    {
      "cell_type": "markdown",
      "source": [
        "\n",
        "\n",
        "---\n",
        "\n"
      ],
      "metadata": {
        "id": "jSzsmNTZpFXJ"
      }
    },
    {
      "cell_type": "markdown",
      "metadata": {
        "id": "KkqmNarpGEHK"
      },
      "source": [
        "\n",
        "\n",
        "### Question 3 - Loss function (5 points)\n",
        "\n",
        "Write the expression of the loss as a function of $\\mathbf w$ that makes sense for you to use in this problem.\n",
        "\n",
        "NOTE: The loss will be a function that will include this function:\n",
        "\n",
        "$$\\sigma(a) = \\frac{1}{1+e^{-a}}$$\n",
        "\n"
      ]
    },
    {
      "cell_type": "markdown",
      "source": [
        "To train this logistic regression problem, we need to use the **Binary Cross-Entropy Loss Function**, which is the mathematical function that measures the difference between predicted probabilities and actual binary labels in classification tasks."
      ],
      "metadata": {
        "id": "8KRbWB5qjszT"
      }
    },
    {
      "cell_type": "markdown",
      "metadata": {
        "id": "8XE8GIQGGEHK"
      },
      "source": [
        "$$L_{CE} = \\frac{1}{m} \\left(\\sum_{i=1}^m y_i log(\\hat{y}_i) + (1-y_i) log(1-\\hat{y}_i)\\right) $$"
      ]
    },
    {
      "cell_type": "markdown",
      "source": [
        "Where:\n",
        "*   $m$ is the number of training examples.\n",
        "*   $y_i$ is the true label of the $i_{th}$ training example.\n",
        "*   $\\hat{y}_i$ is the predicted probability of the $i_{th}$ training example."
      ],
      "metadata": {
        "id": "FSeSeBAmocvu"
      }
    },
    {
      "cell_type": "markdown",
      "source": [
        "$\\hat{y}_i$ can also be expressed using the sigmoid function as:\n",
        "$$\\hat{y}_i = \\sigma(\\mathbf w^{T}\\mathbf{x}_i)$$"
      ],
      "metadata": {
        "id": "RAthJpXMpEHP"
      }
    },
    {
      "cell_type": "markdown",
      "source": [
        "\n",
        "\n",
        "---\n",
        "\n"
      ],
      "metadata": {
        "id": "949j17YypHuW"
      }
    },
    {
      "cell_type": "markdown",
      "metadata": {
        "id": "mRV_hIyTGEHK"
      },
      "source": [
        "\n",
        "### Question 4 - Gradient (5 points)\n",
        "\n",
        "Write the expression of the gradient of the loss with respect to the parameters - show all your work.\n",
        "\n"
      ]
    },
    {
      "cell_type": "markdown",
      "source": [
        "Expressions to use:\n",
        "\n",
        "*   $$L(\\mathbf w) = - [y*log(\\hat{y}) + (1-y) log(1-\\hat{y})] $$\n",
        "*   $$\\hat{y} = \\sigma(z) =\\frac{1}{1+e^{-z}}$$\n",
        "*   $$z = w_0 + w_1x_1 + ... + w_mx_m=\\mathbf w^{T}\\mathbf{x}$$\n",
        "\n",
        "\n",
        "\n",
        "\n"
      ],
      "metadata": {
        "id": "7wmOqbKr64fw"
      }
    },
    {
      "cell_type": "markdown",
      "metadata": {
        "id": "8IIki0j4GEHL"
      },
      "source": [
        "$$ \\nabla_\\mathbf w L_{CE} = \\frac{\\delta L(\\mathbf w)}{\\delta \\mathbf w} = \\frac{\\delta L(\\mathbf w)}{\\delta \\hat{y}} \\frac{\\delta \\hat{y}}{\\delta z} \\frac{\\delta z}{\\delta \\mathbf w}$$"
      ]
    },
    {
      "cell_type": "markdown",
      "source": [
        "*   $$\\frac{\\delta L(\\mathbf w)}{\\delta \\hat{y}} = -\\left( \\frac{y}{\\hat{y}} - \\frac{1-y}{1-\\hat{y}} \\right) = \\frac{\\hat{y}-y}{\\hat{y}(1-\\hat{y})} $$\n",
        "*   $$\\frac{\\delta \\hat{y}}{\\delta z} = \\frac{\\delta}{\\delta z}\\left[ \\frac{1}{1+e^{-z}} \\right] = -(1+e^{-z})^{-2}(-e^{-z}) = \\frac{1}{1+e^{-z}} \\frac{(1+e^{-z})-1}{(1+e^{-z})} = \\frac{1}{1+e^{-z}} \\left( \\frac{1+e^{-z}}{1+e^{-z}}-\\frac{1}{1+e^{-z}}\\right) = \\frac{1}{1+e^{-z}}\\left( 1-\\frac{1}{1+e^{-z}}\\right) = \\hat{y}(1-\\hat{y})$$\n",
        "*   $$\\frac{\\delta z}{\\delta \\mathbf w} = \\mathbf{x}$$\n"
      ],
      "metadata": {
        "id": "SVncpOXy9lj_"
      }
    },
    {
      "cell_type": "markdown",
      "source": [
        "$$ \\frac{\\delta L(\\mathbf w)}{\\delta \\mathbf w} = \\frac{\\hat{y}-y}{\\hat{y}(1-\\hat{y})} \\hat{y}(1-\\hat{y})\\mathbf{x} = (\\hat{y}-y)\\mathbf{x} $$"
      ],
      "metadata": {
        "id": "IyfJagYrB37q"
      }
    },
    {
      "cell_type": "markdown",
      "source": [
        "\n",
        "\n",
        "---\n",
        "\n"
      ],
      "metadata": {
        "id": "ShSXPj814eyB"
      }
    },
    {
      "cell_type": "markdown",
      "metadata": {
        "id": "_EHohZIcGEHM"
      },
      "source": [
        "### Question 5 - Imbalanced dataset (10 points)\n",
        "\n",
        "You are now told that in the dataset  \n",
        "\n",
        "$$p(y=0) >> p(y=1)$$\n",
        "\n",
        "Can you comment if the accuracy of Logistic Regression will be affected by such imbalance?\n",
        "\n"
      ]
    },
    {
      "cell_type": "markdown",
      "source": [
        "I think the logistic regression model may be biased towards predicting $p(y=0)$ over $p(y=1)$, because the model tries to minimize the overall loss, which is dominated by the majority class affecting the accuracy of the logistic regression.\n",
        "\n",
        "In such imbalanced datasets, evaluation metrics that are robust to class imbalance, such as precision, recall, and F1 score.\n",
        "\n",
        "An alternative is to implement a Weighted Logistic Regression:\n",
        "\n",
        "Weighting is a procedure that weights the data to compensate for differences in sample and population. For example, in rare events (such as fraud in credit risk, deaths in medical literature) we tend to sample all the 1’s (rare events) and a fraction of 0’s (non events). In such cases we have to weight the observations accordingly.\n",
        "\n",
        "Example: Let us say, In a population of 500,000 transactions there are 50 fraud transactions. In this case you would\n",
        "\n",
        "*   Sample all 50 frauds transaction (100% of the fraud)\n",
        "*   10% of the good transactions (10% of 500,000 is 50,000 good transactions)\n",
        "\n",
        "In this case you would assign a weight of 1 for fraud transactions and a weight of 10 for good transactions."
      ],
      "metadata": {
        "id": "rZupX6xYELvH"
      }
    },
    {
      "cell_type": "markdown",
      "metadata": {
        "id": "k4-llg3aGEHM"
      },
      "source": [
        "\n",
        "### Question 6 - SGD (15 points)\n",
        "\n",
        "The interviewer was impressed with your answers and wants to test your programming skills.\n",
        "\n",
        "1. Use the dataset to train a logistic regressor that will predict the target variable $y$.\n",
        "\n",
        "2. Report the harmonic mean of precision (p) and recall (r) i.e the  [metric called $F_1$ score](https://en.wikipedia.org/wiki/F-score) that is calculated as shown below using a test dataset that is 20% of each group. Plot the $F_1$ score vs the iteration number  $t$.\n",
        "\n",
        "$$F_1 = \\frac{2}{r^{-1} + p^{-1}}$$\n",
        "\n",
        "Your code includes hyperparameter optimization of the learning rate and mini batch size. Please learn about cross validation which is a splitting strategy for tuning models [here](https://scikit-learn.org/stable/modules/cross_validation.html).\n",
        "\n",
        "You are allowed to use any library you want to code this problem.\n",
        "\n"
      ]
    },
    {
      "cell_type": "code",
      "execution_count": 76,
      "metadata": {
        "id": "_MIwli2lGEHN"
      },
      "outputs": [],
      "source": [
        "# Importing libraries\n",
        "\n",
        "import pandas as pd\n",
        "import numpy as np\n",
        "from sklearn.linear_model import LogisticRegression\n",
        "from sklearn.model_selection import train_test_split, GridSearchCV\n",
        "from sklearn.preprocessing import StandardScaler\n",
        "from sklearn.linear_model import SGDClassifier\n",
        "import matplotlib.pyplot as plt\n",
        "from sklearn.compose import ColumnTransformer\n",
        "from sklearn.preprocessing import OneHotEncoder, LabelEncoder\n",
        "from sklearn.metrics import precision_score, recall_score, f1_score, make_scorer\n",
        "from sklearn.impute import SimpleImputer"
      ]
    },
    {
      "cell_type": "code",
      "source": [
        "# Loading the dataset\n",
        "\n",
        "data = pd.read_csv('https://raw.githubusercontent.com/DavidGomezCamargo/CS634-Data-Mining/main/CBC_data.csv', index_col=0)\n",
        "data.head()"
      ],
      "metadata": {
        "colab": {
          "base_uri": "https://localhost:8080/",
          "height": 237
        },
        "id": "eq0MnIEmHVCK",
        "outputId": "9fb94695-6bc1-4b45-b1b3-af932e71714d"
      },
      "execution_count": 77,
      "outputs": [
        {
          "output_type": "execute_result",
          "data": {
            "text/plain": [
              "                 SEX  TYPEAREA       SEX.REPRO REPRO.STATUS  AGE  \\\n",
              "ID                                                                 \n",
              "grls5ZUT2BYY    Male  Suburban      IntactMale       Intact    9   \n",
              "grls8DCONYUU  Female     Rural  NeuteredFemale     Neutered    6   \n",
              "grlsUC5R4PTT    Male  Suburban      IntactMale       Intact   14   \n",
              "grlsXUR2PY88    Male     Rural      IntactMale       Intact    6   \n",
              "grlsTBZUF3GG  Female     Rural    IntactFemale       Intact   18   \n",
              "\n",
              "             PARASITE_STATUS  RBC   HGB   WBC  EOS.CNT  MONO.CNT  NUT.CNT  \\\n",
              "ID                                                                          \n",
              "grls5ZUT2BYY        Negative  6.4  16.6  14.2    142.0     852.0   6390.0   \n",
              "grls8DCONYUU        Negative  4.8  12.5  10.0    400.0     300.0   4800.0   \n",
              "grlsUC5R4PTT        Negative  6.2  17.3   9.5    190.0     475.0   7315.0   \n",
              "grlsXUR2PY88        Negative  5.4  13.8  14.1   1692.0     423.0   7755.0   \n",
              "grlsTBZUF3GG        Negative  5.9  14.4   6.5    390.0     130.0   2795.0   \n",
              "\n",
              "              PL.CNT  LYMP.CNT  \n",
              "ID                              \n",
              "grls5ZUT2BYY   210.0    6816.0  \n",
              "grls8DCONYUU   209.0    4500.0  \n",
              "grlsUC5R4PTT   164.0    1520.0  \n",
              "grlsXUR2PY88   254.0    4230.0  \n",
              "grlsTBZUF3GG   213.0    3185.0  "
            ],
            "text/html": [
              "\n",
              "  <div id=\"df-8ccea3f9-78aa-4fe4-bdf9-7d1e37ea73d4\">\n",
              "    <div class=\"colab-df-container\">\n",
              "      <div>\n",
              "<style scoped>\n",
              "    .dataframe tbody tr th:only-of-type {\n",
              "        vertical-align: middle;\n",
              "    }\n",
              "\n",
              "    .dataframe tbody tr th {\n",
              "        vertical-align: top;\n",
              "    }\n",
              "\n",
              "    .dataframe thead th {\n",
              "        text-align: right;\n",
              "    }\n",
              "</style>\n",
              "<table border=\"1\" class=\"dataframe\">\n",
              "  <thead>\n",
              "    <tr style=\"text-align: right;\">\n",
              "      <th></th>\n",
              "      <th>SEX</th>\n",
              "      <th>TYPEAREA</th>\n",
              "      <th>SEX.REPRO</th>\n",
              "      <th>REPRO.STATUS</th>\n",
              "      <th>AGE</th>\n",
              "      <th>PARASITE_STATUS</th>\n",
              "      <th>RBC</th>\n",
              "      <th>HGB</th>\n",
              "      <th>WBC</th>\n",
              "      <th>EOS.CNT</th>\n",
              "      <th>MONO.CNT</th>\n",
              "      <th>NUT.CNT</th>\n",
              "      <th>PL.CNT</th>\n",
              "      <th>LYMP.CNT</th>\n",
              "    </tr>\n",
              "    <tr>\n",
              "      <th>ID</th>\n",
              "      <th></th>\n",
              "      <th></th>\n",
              "      <th></th>\n",
              "      <th></th>\n",
              "      <th></th>\n",
              "      <th></th>\n",
              "      <th></th>\n",
              "      <th></th>\n",
              "      <th></th>\n",
              "      <th></th>\n",
              "      <th></th>\n",
              "      <th></th>\n",
              "      <th></th>\n",
              "      <th></th>\n",
              "    </tr>\n",
              "  </thead>\n",
              "  <tbody>\n",
              "    <tr>\n",
              "      <th>grls5ZUT2BYY</th>\n",
              "      <td>Male</td>\n",
              "      <td>Suburban</td>\n",
              "      <td>IntactMale</td>\n",
              "      <td>Intact</td>\n",
              "      <td>9</td>\n",
              "      <td>Negative</td>\n",
              "      <td>6.4</td>\n",
              "      <td>16.6</td>\n",
              "      <td>14.2</td>\n",
              "      <td>142.0</td>\n",
              "      <td>852.0</td>\n",
              "      <td>6390.0</td>\n",
              "      <td>210.0</td>\n",
              "      <td>6816.0</td>\n",
              "    </tr>\n",
              "    <tr>\n",
              "      <th>grls8DCONYUU</th>\n",
              "      <td>Female</td>\n",
              "      <td>Rural</td>\n",
              "      <td>NeuteredFemale</td>\n",
              "      <td>Neutered</td>\n",
              "      <td>6</td>\n",
              "      <td>Negative</td>\n",
              "      <td>4.8</td>\n",
              "      <td>12.5</td>\n",
              "      <td>10.0</td>\n",
              "      <td>400.0</td>\n",
              "      <td>300.0</td>\n",
              "      <td>4800.0</td>\n",
              "      <td>209.0</td>\n",
              "      <td>4500.0</td>\n",
              "    </tr>\n",
              "    <tr>\n",
              "      <th>grlsUC5R4PTT</th>\n",
              "      <td>Male</td>\n",
              "      <td>Suburban</td>\n",
              "      <td>IntactMale</td>\n",
              "      <td>Intact</td>\n",
              "      <td>14</td>\n",
              "      <td>Negative</td>\n",
              "      <td>6.2</td>\n",
              "      <td>17.3</td>\n",
              "      <td>9.5</td>\n",
              "      <td>190.0</td>\n",
              "      <td>475.0</td>\n",
              "      <td>7315.0</td>\n",
              "      <td>164.0</td>\n",
              "      <td>1520.0</td>\n",
              "    </tr>\n",
              "    <tr>\n",
              "      <th>grlsXUR2PY88</th>\n",
              "      <td>Male</td>\n",
              "      <td>Rural</td>\n",
              "      <td>IntactMale</td>\n",
              "      <td>Intact</td>\n",
              "      <td>6</td>\n",
              "      <td>Negative</td>\n",
              "      <td>5.4</td>\n",
              "      <td>13.8</td>\n",
              "      <td>14.1</td>\n",
              "      <td>1692.0</td>\n",
              "      <td>423.0</td>\n",
              "      <td>7755.0</td>\n",
              "      <td>254.0</td>\n",
              "      <td>4230.0</td>\n",
              "    </tr>\n",
              "    <tr>\n",
              "      <th>grlsTBZUF3GG</th>\n",
              "      <td>Female</td>\n",
              "      <td>Rural</td>\n",
              "      <td>IntactFemale</td>\n",
              "      <td>Intact</td>\n",
              "      <td>18</td>\n",
              "      <td>Negative</td>\n",
              "      <td>5.9</td>\n",
              "      <td>14.4</td>\n",
              "      <td>6.5</td>\n",
              "      <td>390.0</td>\n",
              "      <td>130.0</td>\n",
              "      <td>2795.0</td>\n",
              "      <td>213.0</td>\n",
              "      <td>3185.0</td>\n",
              "    </tr>\n",
              "  </tbody>\n",
              "</table>\n",
              "</div>\n",
              "      <button class=\"colab-df-convert\" onclick=\"convertToInteractive('df-8ccea3f9-78aa-4fe4-bdf9-7d1e37ea73d4')\"\n",
              "              title=\"Convert this dataframe to an interactive table.\"\n",
              "              style=\"display:none;\">\n",
              "        \n",
              "  <svg xmlns=\"http://www.w3.org/2000/svg\" height=\"24px\"viewBox=\"0 0 24 24\"\n",
              "       width=\"24px\">\n",
              "    <path d=\"M0 0h24v24H0V0z\" fill=\"none\"/>\n",
              "    <path d=\"M18.56 5.44l.94 2.06.94-2.06 2.06-.94-2.06-.94-.94-2.06-.94 2.06-2.06.94zm-11 1L8.5 8.5l.94-2.06 2.06-.94-2.06-.94L8.5 2.5l-.94 2.06-2.06.94zm10 10l.94 2.06.94-2.06 2.06-.94-2.06-.94-.94-2.06-.94 2.06-2.06.94z\"/><path d=\"M17.41 7.96l-1.37-1.37c-.4-.4-.92-.59-1.43-.59-.52 0-1.04.2-1.43.59L10.3 9.45l-7.72 7.72c-.78.78-.78 2.05 0 2.83L4 21.41c.39.39.9.59 1.41.59.51 0 1.02-.2 1.41-.59l7.78-7.78 2.81-2.81c.8-.78.8-2.07 0-2.86zM5.41 20L4 18.59l7.72-7.72 1.47 1.35L5.41 20z\"/>\n",
              "  </svg>\n",
              "      </button>\n",
              "      \n",
              "  <style>\n",
              "    .colab-df-container {\n",
              "      display:flex;\n",
              "      flex-wrap:wrap;\n",
              "      gap: 12px;\n",
              "    }\n",
              "\n",
              "    .colab-df-convert {\n",
              "      background-color: #E8F0FE;\n",
              "      border: none;\n",
              "      border-radius: 50%;\n",
              "      cursor: pointer;\n",
              "      display: none;\n",
              "      fill: #1967D2;\n",
              "      height: 32px;\n",
              "      padding: 0 0 0 0;\n",
              "      width: 32px;\n",
              "    }\n",
              "\n",
              "    .colab-df-convert:hover {\n",
              "      background-color: #E2EBFA;\n",
              "      box-shadow: 0px 1px 2px rgba(60, 64, 67, 0.3), 0px 1px 3px 1px rgba(60, 64, 67, 0.15);\n",
              "      fill: #174EA6;\n",
              "    }\n",
              "\n",
              "    [theme=dark] .colab-df-convert {\n",
              "      background-color: #3B4455;\n",
              "      fill: #D2E3FC;\n",
              "    }\n",
              "\n",
              "    [theme=dark] .colab-df-convert:hover {\n",
              "      background-color: #434B5C;\n",
              "      box-shadow: 0px 1px 3px 1px rgba(0, 0, 0, 0.15);\n",
              "      filter: drop-shadow(0px 1px 2px rgba(0, 0, 0, 0.3));\n",
              "      fill: #FFFFFF;\n",
              "    }\n",
              "  </style>\n",
              "\n",
              "      <script>\n",
              "        const buttonEl =\n",
              "          document.querySelector('#df-8ccea3f9-78aa-4fe4-bdf9-7d1e37ea73d4 button.colab-df-convert');\n",
              "        buttonEl.style.display =\n",
              "          google.colab.kernel.accessAllowed ? 'block' : 'none';\n",
              "\n",
              "        async function convertToInteractive(key) {\n",
              "          const element = document.querySelector('#df-8ccea3f9-78aa-4fe4-bdf9-7d1e37ea73d4');\n",
              "          const dataTable =\n",
              "            await google.colab.kernel.invokeFunction('convertToInteractive',\n",
              "                                                     [key], {});\n",
              "          if (!dataTable) return;\n",
              "\n",
              "          const docLinkHtml = 'Like what you see? Visit the ' +\n",
              "            '<a target=\"_blank\" href=https://colab.research.google.com/notebooks/data_table.ipynb>data table notebook</a>'\n",
              "            + ' to learn more about interactive tables.';\n",
              "          element.innerHTML = '';\n",
              "          dataTable['output_type'] = 'display_data';\n",
              "          await google.colab.output.renderOutput(dataTable, element);\n",
              "          const docLink = document.createElement('div');\n",
              "          docLink.innerHTML = docLinkHtml;\n",
              "          element.appendChild(docLink);\n",
              "        }\n",
              "      </script>\n",
              "    </div>\n",
              "  </div>\n",
              "  "
            ]
          },
          "metadata": {},
          "execution_count": 77
        }
      ]
    },
    {
      "cell_type": "code",
      "source": [
        "# Preprocessing data\n",
        "\n",
        "X = data.drop('PARASITE_STATUS', axis=1)\n",
        "y = data['PARASITE_STATUS']\n",
        "\n",
        "# Defining column transformers for different preprocessing steps\n",
        "\n",
        "numeric_transformer = SimpleImputer(strategy='mean')\n",
        "categorical_transformer = OneHotEncoder(handle_unknown='ignore')\n",
        "\n",
        "# Identifying numeric and categorical columns\n",
        "\n",
        "numeric_features = X.select_dtypes(include=['int', 'float']).columns\n",
        "categorical_features = X.select_dtypes(include=['object']).columns\n",
        "preprocessor = ColumnTransformer(\n",
        "    transformers=[\n",
        "        ('numeric', numeric_transformer, numeric_features),\n",
        "        ('categorical', categorical_transformer, categorical_features)\n",
        "    ])\n",
        "\n",
        "# Preparing the data for training\n",
        "\n",
        "X = preprocessor.fit_transform(X)\n",
        "label_encoder = LabelEncoder()\n",
        "y = label_encoder.fit_transform(y)"
      ],
      "metadata": {
        "id": "OxlTxraXLHen"
      },
      "execution_count": 78,
      "outputs": []
    },
    {
      "cell_type": "code",
      "source": [
        "# Spliting the data into training and test sets\n",
        "\n",
        "X_train, X_test, y_train, y_test = train_test_split(X, y, test_size=0.2, stratify=y, random_state=42)"
      ],
      "metadata": {
        "id": "k9OqHn02LQ0Y"
      },
      "execution_count": 79,
      "outputs": []
    },
    {
      "cell_type": "code",
      "source": [
        "# Defining a function to retrieve the next batch of data\n",
        "\n",
        "def next_batch(X, y, batch_size):\n",
        "    num_samples = X.shape[0]\n",
        "    indices = np.arange(num_samples)\n",
        "    np.random.shuffle(indices)\n",
        "\n",
        "    for i in range(0, num_samples, batch_size):\n",
        "        batch_indices = indices[i:i+batch_size]\n",
        "        X_batch = X[batch_indices]\n",
        "        y_batch = y[batch_indices]\n",
        "        yield X_batch, y_batch"
      ],
      "metadata": {
        "id": "RNN2APbhwJ8T"
      },
      "execution_count": 80,
      "outputs": []
    },
    {
      "cell_type": "code",
      "source": [
        "# Defining a function to train and evaluate the logistic regression model with different hyperparameters\n",
        "\n",
        "def train_evaluate_model(learning_rate, batch_size):\n",
        "    model = SGDClassifier(loss='log', learning_rate='constant', eta0=learning_rate, max_iter=1000, warm_start=True)\n",
        "    batches = next_batch(X_train, y_train, batch_size)\n",
        "    f1_scores = []\n",
        "    for X_batch, y_batch in batches:\n",
        "        model.partial_fit(X_batch, y_batch, classes=np.unique(y))\n",
        "        y_pred = model.predict(X_test)\n",
        "        f1 = f1_score(y_test, y_pred)\n",
        "        f1_scores.append(f1)\n",
        "    return f1_scores"
      ],
      "metadata": {
        "id": "zqJtU9cqwRNH"
      },
      "execution_count": 81,
      "outputs": []
    },
    {
      "cell_type": "code",
      "source": [
        "# Defining a function to perform hyperparameter optimization using grid search\n",
        "\n",
        "def hyperparameter_optimization(learning_rates, batch_sizes):\n",
        "    f1_scores = []\n",
        "    for lr in learning_rates:\n",
        "        for bs in batch_sizes:\n",
        "            f1 = train_evaluate_model(lr, bs)\n",
        "            f1_scores.extend(f1)\n",
        "    return f1_scores"
      ],
      "metadata": {
        "id": "hOkPpP1WwUmJ"
      },
      "execution_count": 82,
      "outputs": []
    },
    {
      "cell_type": "code",
      "source": [
        "# Specifying the learning rates and batch sizes to try\n",
        "\n",
        "learning_rates = [0.001, 0.01, 0.1]\n",
        "batch_sizes = [16, 32, 64]"
      ],
      "metadata": {
        "id": "Ru_igX4owYFE"
      },
      "execution_count": 83,
      "outputs": []
    },
    {
      "cell_type": "code",
      "source": [
        "# Performing hyperparameter optimization and plot the F1 scores\n",
        "\n",
        "f1_scores = hyperparameter_optimization(learning_rates, batch_sizes)\n",
        "\n",
        "plt.plot(range(len(f1_scores)), f1_scores)\n",
        "plt.xlabel('Iteration Number (t)')\n",
        "plt.ylabel('F1 Score')\n",
        "plt.title('F1 Score vs Iteration Number')\n",
        "plt.show()"
      ],
      "metadata": {
        "colab": {
          "base_uri": "https://localhost:8080/",
          "height": 804
        },
        "id": "B2_M31ybwaex",
        "outputId": "b5adf283-0e7d-488d-f27d-cbd1d3fb5d14"
      },
      "execution_count": 84,
      "outputs": [
        {
          "output_type": "stream",
          "name": "stderr",
          "text": [
            "/usr/local/lib/python3.10/dist-packages/sklearn/linear_model/_stochastic_gradient.py:163: FutureWarning: The loss 'log' was deprecated in v1.1 and will be removed in version 1.3. Use `loss='log_loss'` which is equivalent.\n",
            "  warnings.warn(\n",
            "/usr/local/lib/python3.10/dist-packages/sklearn/linear_model/_stochastic_gradient.py:163: FutureWarning: The loss 'log' was deprecated in v1.1 and will be removed in version 1.3. Use `loss='log_loss'` which is equivalent.\n",
            "  warnings.warn(\n",
            "/usr/local/lib/python3.10/dist-packages/sklearn/linear_model/_stochastic_gradient.py:163: FutureWarning: The loss 'log' was deprecated in v1.1 and will be removed in version 1.3. Use `loss='log_loss'` which is equivalent.\n",
            "  warnings.warn(\n",
            "/usr/local/lib/python3.10/dist-packages/sklearn/linear_model/_stochastic_gradient.py:163: FutureWarning: The loss 'log' was deprecated in v1.1 and will be removed in version 1.3. Use `loss='log_loss'` which is equivalent.\n",
            "  warnings.warn(\n",
            "/usr/local/lib/python3.10/dist-packages/sklearn/linear_model/_stochastic_gradient.py:163: FutureWarning: The loss 'log' was deprecated in v1.1 and will be removed in version 1.3. Use `loss='log_loss'` which is equivalent.\n",
            "  warnings.warn(\n",
            "/usr/local/lib/python3.10/dist-packages/sklearn/linear_model/_stochastic_gradient.py:163: FutureWarning: The loss 'log' was deprecated in v1.1 and will be removed in version 1.3. Use `loss='log_loss'` which is equivalent.\n",
            "  warnings.warn(\n",
            "/usr/local/lib/python3.10/dist-packages/sklearn/linear_model/_stochastic_gradient.py:163: FutureWarning: The loss 'log' was deprecated in v1.1 and will be removed in version 1.3. Use `loss='log_loss'` which is equivalent.\n",
            "  warnings.warn(\n",
            "/usr/local/lib/python3.10/dist-packages/sklearn/linear_model/_stochastic_gradient.py:163: FutureWarning: The loss 'log' was deprecated in v1.1 and will be removed in version 1.3. Use `loss='log_loss'` which is equivalent.\n",
            "  warnings.warn(\n",
            "/usr/local/lib/python3.10/dist-packages/sklearn/linear_model/_stochastic_gradient.py:163: FutureWarning: The loss 'log' was deprecated in v1.1 and will be removed in version 1.3. Use `loss='log_loss'` which is equivalent.\n",
            "  warnings.warn(\n"
          ]
        },
        {
          "output_type": "display_data",
          "data": {
            "text/plain": [
              "<Figure size 640x480 with 1 Axes>"
            ],
            "image/png": "[encoded data removed]"
          },
          "metadata": {}
        }
      ]
    },
    {
      "cell_type": "code",
      "source": [
        "# Converting target variable to numeric labels\n",
        "\n",
        "X = data.drop('PARASITE_STATUS', axis=1)\n",
        "y = data['PARASITE_STATUS']\n",
        "label_encoder = LabelEncoder()\n",
        "y = label_encoder.fit_transform(y)"
      ],
      "metadata": {
        "id": "211ZHutZwwfl"
      },
      "execution_count": 85,
      "outputs": []
    },
    {
      "cell_type": "code",
      "source": [
        "# Performing train-test split\n",
        "\n",
        "X_train, X_test, y_train, y_test = train_test_split(X, y, test_size=0.2, random_state=42)"
      ],
      "metadata": {
        "id": "8cZMjiR8w1jr"
      },
      "execution_count": 86,
      "outputs": []
    },
    {
      "cell_type": "code",
      "source": [
        "# Handling missing values\n",
        "\n",
        "numeric_features = X.select_dtypes(include=['int64', 'float64']).columns\n",
        "numeric_imputer = SimpleImputer(strategy='mean')\n",
        "X_train_numeric = numeric_imputer.fit_transform(X_train[numeric_features])\n",
        "X_test_numeric = numeric_imputer.transform(X_test[numeric_features])\n",
        "\n",
        "categorical_features = X.select_dtypes(include=['object']).columns\n",
        "categorical_imputer = SimpleImputer(strategy='most_frequent')\n",
        "X_train_categorical = categorical_imputer.fit_transform(X_train[categorical_features])\n",
        "X_test_categorical = categorical_imputer.transform(X_test[categorical_features])\n",
        "\n",
        "# Encoding categorical features\n",
        "\n",
        "one_hot_encoder = OneHotEncoder(handle_unknown='ignore', sparse=False)\n",
        "X_train_encoded = one_hot_encoder.fit_transform(X_train_categorical)\n",
        "X_test_encoded = one_hot_encoder.transform(X_test_categorical)\n",
        "\n",
        "# Concatenating numeric and encoded categorical features\n",
        "\n",
        "X_train_processed = np.concatenate((X_train_numeric, X_train_encoded), axis=1)\n",
        "X_test_processed = np.concatenate((X_test_numeric, X_test_encoded), axis=1)"
      ],
      "metadata": {
        "colab": {
          "base_uri": "https://localhost:8080/"
        },
        "id": "Zu2i1Lhbw-KD",
        "outputId": "44700ee0-a90e-48de-c35e-c5790a1d9098"
      },
      "execution_count": 87,
      "outputs": [
        {
          "output_type": "stream",
          "name": "stderr",
          "text": [
            "/usr/local/lib/python3.10/dist-packages/sklearn/preprocessing/_encoders.py:868: FutureWarning: `sparse` was renamed to `sparse_output` in version 1.2 and will be removed in 1.4. `sparse_output` is ignored unless you leave `sparse` to its default value.\n",
            "  warnings.warn(\n"
          ]
        }
      ]
    },
    {
      "cell_type": "code",
      "source": [
        "# Defining the hyperparameters for GridSearchCV\n",
        "\n",
        "hyperparameters = {\n",
        "    'C': [0.001, 0.01, 0.1, 1, 10, 100],\n",
        "    'solver': ['liblinear', 'lbfgs']\n",
        "}\n",
        "\n",
        "# Defining the model\n",
        "\n",
        "model = LogisticRegression(max_iter=1000)\n",
        "grid_search = GridSearchCV(model, hyperparameters, scoring='f1')\n",
        "grid_search.fit(X_train_processed, y_train)"
      ],
      "metadata": {
        "id": "1anRXDflLi3h",
        "colab": {
          "base_uri": "https://localhost:8080/",
          "height": 116
        },
        "outputId": "f3da7495-d39e-49f1-964b-ddf81fe5d105"
      },
      "execution_count": 88,
      "outputs": [
        {
          "output_type": "execute_result",
          "data": {
            "text/plain": [
              "GridSearchCV(estimator=LogisticRegression(max_iter=1000),\n",
              "             param_grid={'C': [0.001, 0.01, 0.1, 1, 10, 100],\n",
              "                         'solver': ['liblinear', 'lbfgs']},\n",
              "             scoring='f1')"
            ],
            "text/html": [
              "<style>#sk-container-id-2 {color: black;background-color: white;}#sk-container-id-2 pre{padding: 0;}#sk-container-id-2 div.sk-toggleable {background-color: white;}#sk-container-id-2 label.sk-toggleable__label {cursor: pointer;display: block;width: 100%;margin-bottom: 0;padding: 0.3em;box-sizing: border-box;text-align: center;}#sk-container-id-2 label.sk-toggleable__label-arrow:before {content: \"▸\";float: left;margin-right: 0.25em;color: #696969;}#sk-container-id-2 label.sk-toggleable__label-arrow:hover:before {color: black;}#sk-container-id-2 div.sk-estimator:hover label.sk-toggleable__label-arrow:before {color: black;}#sk-container-id-2 div.sk-toggleable__content {max-height: 0;max-width: 0;overflow: hidden;text-align: left;background-color: #f0f8ff;}#sk-container-id-2 div.sk-toggleable__content pre {margin: 0.2em;color: black;border-radius: 0.25em;background-color: #f0f8ff;}#sk-container-id-2 input.sk-toggleable__control:checked~div.sk-toggleable__content {max-height: 200px;max-width: 100%;overflow: auto;}#sk-container-id-2 input.sk-toggleable__control:checked~label.sk-toggleable__label-arrow:before {content: \"▾\";}#sk-container-id-2 div.sk-estimator input.sk-toggleable__control:checked~label.sk-toggleable__label {background-color: #d4ebff;}#sk-container-id-2 div.sk-label input.sk-toggleable__control:checked~label.sk-toggleable__label {background-color: #d4ebff;}#sk-container-id-2 input.sk-hidden--visually {border: 0;clip: rect(1px 1px 1px 1px);clip: rect(1px, 1px, 1px, 1px);height: 1px;margin: -1px;overflow: hidden;padding: 0;position: absolute;width: 1px;}#sk-container-id-2 div.sk-estimator {font-family: monospace;background-color: #f0f8ff;border: 1px dotted black;border-radius: 0.25em;box-sizing: border-box;margin-bottom: 0.5em;}#sk-container-id-2 div.sk-estimator:hover {background-color: #d4ebff;}#sk-container-id-2 div.sk-parallel-item::after {content: \"\";width: 100%;border-bottom: 1px solid gray;flex-grow: 1;}#sk-container-id-2 div.sk-label:hover label.sk-toggleable__label {background-color: #d4ebff;}#sk-container-id-2 div.sk-serial::before {content: \"\";position: absolute;border-left: 1px solid gray;box-sizing: border-box;top: 0;bottom: 0;left: 50%;z-index: 0;}#sk-container-id-2 div.sk-serial {display: flex;flex-direction: column;align-items: center;background-color: white;padding-right: 0.2em;padding-left: 0.2em;position: relative;}#sk-container-id-2 div.sk-item {position: relative;z-index: 1;}#sk-container-id-2 div.sk-parallel {display: flex;align-items: stretch;justify-content: center;background-color: white;position: relative;}#sk-container-id-2 div.sk-item::before, #sk-container-id-2 div.sk-parallel-item::before {content: \"\";position: absolute;border-left: 1px solid gray;box-sizing: border-box;top: 0;bottom: 0;left: 50%;z-index: -1;}#sk-container-id-2 div.sk-parallel-item {display: flex;flex-direction: column;z-index: 1;position: relative;background-color: white;}#sk-container-id-2 div.sk-parallel-item:first-child::after {align-self: flex-end;width: 50%;}#sk-container-id-2 div.sk-parallel-item:last-child::after {align-self: flex-start;width: 50%;}#sk-container-id-2 div.sk-parallel-item:only-child::after {width: 0;}#sk-container-id-2 div.sk-dashed-wrapped {border: 1px dashed gray;margin: 0 0.4em 0.5em 0.4em;box-sizing: border-box;padding-bottom: 0.4em;background-color: white;}#sk-container-id-2 div.sk-label label {font-family: monospace;font-weight: bold;display: inline-block;line-height: 1.2em;}#sk-container-id-2 div.sk-label-container {text-align: center;}#sk-container-id-2 div.sk-container {/* jupyter's `normalize.less` sets `[hidden] { display: none; }` but bootstrap.min.css set `[hidden] { display: none !important; }` so we also need the `!important` here to be able to override the default hidden behavior on the sphinx rendered scikit-learn.org. See: https://github.com/scikit-learn/scikit-learn/issues/21755 */display: inline-block !important;position: relative;}#sk-container-id-2 div.sk-text-repr-fallback {display: none;}</style><div id=\"sk-container-id-2\" class=\"sk-top-container\"><div class=\"sk-text-repr-fallback\"><pre>GridSearchCV(estimator=LogisticRegression(max_iter=1000),\n",
              "             param_grid={&#x27;C&#x27;: [0.001, 0.01, 0.1, 1, 10, 100],\n",
              "                         &#x27;solver&#x27;: [&#x27;liblinear&#x27;, &#x27;lbfgs&#x27;]},\n",
              "             scoring=&#x27;f1&#x27;)</pre><b>In a Jupyter environment, please rerun this cell to show the HTML representation or trust the notebook. <br />On GitHub, the HTML representation is unable to render, please try loading this page with nbviewer.org.</b></div><div class=\"sk-container\" hidden><div class=\"sk-item sk-dashed-wrapped\"><div class=\"sk-label-container\"><div class=\"sk-label sk-toggleable\"><input class=\"sk-toggleable__control sk-hidden--visually\" id=\"sk-estimator-id-4\" type=\"checkbox\" ><label for=\"sk-estimator-id-4\" class=\"sk-toggleable__label sk-toggleable__label-arrow\">GridSearchCV</label><div class=\"sk-toggleable__content\"><pre>GridSearchCV(estimator=LogisticRegression(max_iter=1000),\n",
              "             param_grid={&#x27;C&#x27;: [0.001, 0.01, 0.1, 1, 10, 100],\n",
              "                         &#x27;solver&#x27;: [&#x27;liblinear&#x27;, &#x27;lbfgs&#x27;]},\n",
              "             scoring=&#x27;f1&#x27;)</pre></div></div></div><div class=\"sk-parallel\"><div class=\"sk-parallel-item\"><div class=\"sk-item\"><div class=\"sk-label-container\"><div class=\"sk-label sk-toggleable\"><input class=\"sk-toggleable__control sk-hidden--visually\" id=\"sk-estimator-id-5\" type=\"checkbox\" ><label for=\"sk-estimator-id-5\" class=\"sk-toggleable__label sk-toggleable__label-arrow\">estimator: LogisticRegression</label><div class=\"sk-toggleable__content\"><pre>LogisticRegression(max_iter=1000)</pre></div></div></div><div class=\"sk-serial\"><div class=\"sk-item\"><div class=\"sk-estimator sk-toggleable\"><input class=\"sk-toggleable__control sk-hidden--visually\" id=\"sk-estimator-id-6\" type=\"checkbox\" ><label for=\"sk-estimator-id-6\" class=\"sk-toggleable__label sk-toggleable__label-arrow\">LogisticRegression</label><div class=\"sk-toggleable__content\"><pre>LogisticRegression(max_iter=1000)</pre></div></div></div></div></div></div></div></div></div></div>"
            ]
          },
          "metadata": {},
          "execution_count": 88
        }
      ]
    },
    {
      "cell_type": "code",
      "source": [
        "# Geting the best hyperparameters\n",
        "\n",
        "best_params = grid_search.best_params_\n",
        "learning_rate = best_params['C']\n",
        "solver = best_params['solver']\n",
        "\n",
        "# Training the logistic regression model with the best hyperparameters\n",
        "\n",
        "model = LogisticRegression(C=learning_rate, solver=solver, max_iter=1000)\n",
        "model.fit(X_train_processed, y_train)\n",
        "\n",
        "# Making predictions on the test set\n",
        "\n",
        "y_pred = model.predict(X_test_processed)\n",
        "\n",
        "# Calculating precision, recall, and F1 score\n",
        "\n",
        "precision = precision_score(y_test, y_pred)\n",
        "recall = recall_score(y_test, y_pred)\n",
        "f1 = f1_score(y_test, y_pred)\n",
        "\n",
        "print(\"F1 Score:\", f1)\n",
        "print(\"Precision:\", precision)\n",
        "print(\"Recall:\", recall)"
      ],
      "metadata": {
        "colab": {
          "base_uri": "https://localhost:8080/"
        },
        "id": "tJzBMC26MM2j",
        "outputId": "77ebd0fd-02d7-4371-e45d-ad11b72b047f"
      },
      "execution_count": 89,
      "outputs": [
        {
          "output_type": "stream",
          "name": "stdout",
          "text": [
            "F1 Score: 0.04878048780487806\n",
            "Precision: 1.0\n",
            "Recall: 0.025\n"
          ]
        }
      ]
    }
  ],
  "metadata": {
    "kernelspec": {
      "display_name": "ai-course",
      "language": "python",
      "name": "python3"
    },
    "language_info": {
      "name": "python",
      "version": "3.10.8"
    },
    "orig_nbformat": 4,
    "vscode": {
      "interpreter": {
        "hash": "62556f7a043365a66e0918c892755cfafede529a87e97207556f006a109bade4"
      }
    },
    "colab": {
      "provenance": []
    }
  },
  "nbformat": 4,
  "nbformat_minor": 0
}